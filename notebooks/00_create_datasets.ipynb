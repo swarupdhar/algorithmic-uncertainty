{
 "metadata": {
  "language_info": {
   "codemirror_mode": {
    "name": "ipython",
    "version": 3
   },
   "file_extension": ".py",
   "mimetype": "text/x-python",
   "name": "python",
   "nbconvert_exporter": "python",
   "pygments_lexer": "ipython3",
   "version": "3.9.6"
  },
  "orig_nbformat": 4,
  "kernelspec": {
   "name": "python3",
   "display_name": "Python 3.9.6 64-bit ('env')"
  },
  "interpreter": {
   "hash": "3c2d903ad557da003368b94f62d39a183a1ab965953a509803a7ca6af34e7998"
  }
 },
 "nbformat": 4,
 "nbformat_minor": 2,
 "cells": [
  {
   "cell_type": "markdown",
   "source": [
    "# Dataset creation notebook\n",
    "\n",
    "This notebook is used to create all other derived datasets from `perrec` and other csv files like `translate-gs-prs.csv`. Only run this file if a dataset needs to be generated in the data folder."
   ],
   "metadata": {}
  },
  {
   "cell_type": "code",
   "execution_count": 1,
   "source": [
    "import sys\r\n",
    "sys.path.append(\"../src\")\r\n",
    "%load_ext autoreload\r\n",
    "%autoreload 2"
   ],
   "outputs": [],
   "metadata": {}
  },
  {
   "cell_type": "code",
   "execution_count": 2,
   "source": [
    "import pandas as pd\r\n",
    "import numpy as np\r\n",
    "from project import config, preprocessing"
   ],
   "outputs": [],
   "metadata": {}
  },
  {
   "cell_type": "code",
   "execution_count": 3,
   "source": [
    "perrec_df = pd.read_csv(\r\n",
    "    \"../data/dbo_Perrec.txt\",\r\n",
    "    encoding=config.ENCODING,\r\n",
    "    low_memory=False\r\n",
    ")"
   ],
   "outputs": [],
   "metadata": {}
  },
  {
   "cell_type": "code",
   "execution_count": 4,
   "source": [
    "perrec_df_2017 = pd.read_csv(\r\n",
    "    \"../data/Perrec_2017.csv\",\r\n",
    "    encoding=config.ENCODING,\r\n",
    "    low_memory=False\r\n",
    ")"
   ],
   "outputs": [],
   "metadata": {}
  },
  {
   "cell_type": "markdown",
   "source": [
    "## Creating initial custody level dataset"
   ],
   "metadata": {}
  },
  {
   "cell_type": "code",
   "execution_count": 5,
   "source": [
    "config.build_subset_csv(\r\n",
    "    perrec_df,\r\n",
    "    config.IC_VARIABLES_ALL,\r\n",
    "    \"../data/initial_custody.csv\"\r\n",
    ")"
   ],
   "outputs": [
    {
     "output_type": "stream",
     "name": "stderr",
     "text": [
      "c:\\Dev\\psapm\\env\\lib\\site-packages\\pandas\\core\\indexing.py:1773: SettingWithCopyWarning: \n",
      "A value is trying to be set on a copy of a slice from a DataFrame.\n",
      "Try using .loc[row_indexer,col_indexer] = value instead\n",
      "\n",
      "See the caveats in the documentation: https://pandas.pydata.org/pandas-docs/stable/user_guide/indexing.html#returning-a-view-versus-a-copy\n",
      "  self._setitem_single_column(ilocs[0], value, pi)\n"
     ]
    }
   ],
   "metadata": {}
  },
  {
   "cell_type": "markdown",
   "source": [
    "## Creating 2017 initial custody level dataset"
   ],
   "metadata": {}
  },
  {
   "cell_type": "code",
   "execution_count": 6,
   "source": [
    "config.build_subset_csv(\r\n",
    "    perrec_df_2017,\r\n",
    "    config.IC_VARIABLES_ALL,\r\n",
    "    \"../data/initial_custody_2017.csv\"\r\n",
    ")"
   ],
   "outputs": [],
   "metadata": {}
  },
  {
   "cell_type": "markdown",
   "source": [
    "## Creating 2017 initial custody level dataset with gravity and prior record scores"
   ],
   "metadata": {}
  },
  {
   "cell_type": "code",
   "execution_count": 7,
   "source": [
    "initial_custody_2017 = pd.read_csv(\"../data/initial_custody_2017.csv\", low_memory=False)"
   ],
   "outputs": [],
   "metadata": {}
  },
  {
   "cell_type": "code",
   "execution_count": 8,
   "source": [
    "config.concat_gs_prs(initial_custody_2017).to_csv(\r\n",
    "    \"../data/initial_custody_2017_gsprs.csv\",\r\n",
    "    index=False\r\n",
    ")"
   ],
   "outputs": [],
   "metadata": {}
  },
  {
   "cell_type": "markdown",
   "source": [
    "## Creating all initial custody level dataset with gravity and prior record scores\n",
    "\n",
    "Defintiely don't run this code if `initial_custody_gsprs.csv` already exists in the data folder."
   ],
   "metadata": {}
  },
  {
   "cell_type": "code",
   "execution_count": 11,
   "source": [
    "init_custody_all = pd.read_csv(\"../data/initial_custody.csv\", low_memory=False)"
   ],
   "outputs": [],
   "metadata": {}
  },
  {
   "cell_type": "code",
   "execution_count": 12,
   "source": [
    "config.concat_gs_prs(init_custody_all).to_csv(\r\n",
    "    \"../data/initial_custody_gsprs.csv\",\r\n",
    "    index=False\r\n",
    ")"
   ],
   "outputs": [],
   "metadata": {}
  },
  {
   "cell_type": "markdown",
   "source": [
    "# Creating Reclass Dataset"
   ],
   "metadata": {}
  },
  {
   "cell_type": "code",
   "execution_count": 9,
   "source": [
    "config.build_subset_csv(perrec_df_2017, config.RE_VARIABLES_ALL, \"../data/re_custody_2017.csv\")"
   ],
   "outputs": [],
   "metadata": {}
  },
  {
   "cell_type": "code",
   "execution_count": 10,
   "source": [
    "config.concat_gs_prs_re(pd.read_csv(\"../data/re_custody_2017.csv\")).to_csv(\r\n",
    "    \"../data/re_custody_2017_gsprs.csv\",\r\n",
    "    index=False\r\n",
    ")"
   ],
   "outputs": [
    {
     "output_type": "stream",
     "name": "stderr",
     "text": [
      "c:\\Dev\\psapm\\env\\lib\\site-packages\\IPython\\core\\interactiveshell.py:3441: DtypeWarning: Columns (20) have mixed types.Specify dtype option on import or set low_memory=False.\n",
      "  exec(code_obj, self.user_global_ns, self.user_ns)\n"
     ]
    }
   ],
   "metadata": {}
  }
 ]
}
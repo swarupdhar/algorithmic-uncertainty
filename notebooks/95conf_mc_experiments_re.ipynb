{
 "metadata": {
  "language_info": {
   "name": "python",
   "version": "3.9.6",
   "mimetype": "text/x-python",
   "codemirror_mode": {
    "name": "ipython",
    "version": 3
   },
   "pygments_lexer": "ipython3",
   "nbconvert_exporter": "python",
   "file_extension": ".py"
  },
  "orig_nbformat": 4,
  "kernelspec": {
   "name": "python3",
   "display_name": "Python 3.9.6 64-bit ('env': venv)"
  },
  "interpreter": {
   "hash": "3c2d903ad557da003368b94f62d39a183a1ab965953a509803a7ca6af34e7998"
  }
 },
 "nbformat": 4,
 "nbformat_minor": 2,
 "cells": [
  {
   "cell_type": "markdown",
   "source": [
    "# 95% Confidence Monte Carlo Experiments"
   ],
   "metadata": {}
  },
  {
   "cell_type": "code",
   "execution_count": 1,
   "source": [
    "import sys\r\n",
    "sys.path.append(\"../src\")\r\n",
    "%load_ext autoreload\r\n",
    "%autoreload 2"
   ],
   "outputs": [],
   "metadata": {}
  },
  {
   "cell_type": "code",
   "execution_count": 2,
   "source": [
    "import pandas as pd\r\n",
    "import numpy as np\r\n",
    "import matplotlib.pyplot as plt"
   ],
   "outputs": [],
   "metadata": {}
  },
  {
   "cell_type": "code",
   "execution_count": 3,
   "source": [
    "from project import preprocessing, rf_models, mc_experiments"
   ],
   "outputs": [],
   "metadata": {}
  },
  {
   "cell_type": "code",
   "execution_count": 4,
   "source": [
    "df_re = pd.read_csv(\"../data/re_custody_2017_gsprs.csv\", low_memory=False)"
   ],
   "outputs": [],
   "metadata": {}
  },
  {
   "cell_type": "markdown",
   "source": [
    "## [Initial Custody] Building Random Forest With Original Data"
   ],
   "metadata": {}
  },
  {
   "cell_type": "code",
   "execution_count": 5,
   "source": [
    "df = preprocessing.preprocess_input_vars_re(df_re)\r\n",
    "data = df[\r\n",
    "    [\r\n",
    "        \"gender_female\",\r\n",
    "        \"age_gt_45\",\r\n",
    "        \"age_lt_25\",\r\n",
    "        \"race_B\",\r\n",
    "        \"race_A\",\r\n",
    "        \"race_H\",\r\n",
    "        \"race_I\",\r\n",
    "        \"race_O\",\r\n",
    "        \"off_1_prs_max\",\r\n",
    "        \"off_1_gs_max\",\r\n",
    "        \"re_custody_level\",\r\n",
    "        \"ic_custdy_level\",\r\n",
    "        \"prior_commits\",\r\n",
    "        \"re_discip_reports\",\r\n",
    "        \"re_escp_hist_1\",\r\n",
    "        \"re_escp_hist_2\",\r\n",
    "        \"re_escp_hist_3\",\r\n",
    "        \"re_escp_hist_4\",\r\n",
    "        \"re_escp_hist_5\",\r\n",
    "        \"control_number\"\r\n",
    "    ]\r\n",
    "]\r\n",
    "data = data[data[\"re_custody_level\"] > 1]\r\n",
    "data = data.dropna()"
   ],
   "outputs": [],
   "metadata": {}
  },
  {
   "cell_type": "code",
   "execution_count": 6,
   "source": [
    "len(data)"
   ],
   "outputs": [
    {
     "output_type": "execute_result",
     "data": {
      "text/plain": [
       "14573"
      ]
     },
     "metadata": {},
     "execution_count": 6
    }
   ],
   "metadata": {}
  },
  {
   "cell_type": "code",
   "execution_count": 7,
   "source": [
    "X = data.drop([\"control_number\", \"re_custody_level\"], axis=1)\r\n",
    "Y = data[\"re_custody_level\"]"
   ],
   "outputs": [],
   "metadata": {}
  },
  {
   "cell_type": "code",
   "execution_count": 8,
   "source": [
    "# Create random forest with original data\r\n",
    "re_rf_model = rf_models.BasicRFModel(X, Y)\r\n",
    "re_rf_model.fit()"
   ],
   "outputs": [],
   "metadata": {}
  },
  {
   "cell_type": "code",
   "execution_count": 9,
   "source": [
    "re_col_enumerated = {\r\n",
    "    col: dict(data.groupby([\"re_custody_level\"])[col].apply(list))\r\n",
    "    for col in data.drop(\"re_custody_level\", axis=1) \r\n",
    "}"
   ],
   "outputs": [],
   "metadata": {}
  },
  {
   "cell_type": "code",
   "execution_count": 10,
   "source": [
    "re_col_enumerated_2lvl = {\r\n",
    "    col: dict(data.groupby([\r\n",
    "        \"re_custody_level\",\r\n",
    "        \"race_B\",\r\n",
    "        \"race_A\",\r\n",
    "        \"race_H\",\r\n",
    "        \"race_I\",\r\n",
    "        \"race_O\"])[col].apply(list))\r\n",
    "    for col in data.drop([\r\n",
    "        \"re_custody_level\",\r\n",
    "        \"race_B\",\r\n",
    "        \"race_A\",\r\n",
    "        \"race_H\",\r\n",
    "        \"race_I\",\r\n",
    "        \"race_O\"], axis=1) \r\n",
    "}"
   ],
   "outputs": [],
   "metadata": {}
  },
  {
   "cell_type": "markdown",
   "source": [
    "## [Reclass Custody] 95% Confidence Interval Sampling Experiment\r\n",
    "\r\n",
    "Grouping by the initial custody level and Only perturbing `off_1_prs_max`, `off_1_gs_max`,\r\n",
    "`prior_commits`, `ic_institut_adj` according to their 95% confidence intervals."
   ],
   "metadata": {}
  },
  {
   "cell_type": "code",
   "execution_count": 11,
   "source": [
    "re_95conf_1lvl_fn = mc_experiments.gen_95conf_super_sampling_fn(\r\n",
    "    col_enumerated = re_col_enumerated,\r\n",
    "    multi_lvl = False,\r\n",
    "    const_cols = [\r\n",
    "        \"control_number\",\r\n",
    "        \"age_gt_45\",\r\n",
    "        \"age_lt_25\",\r\n",
    "        \"race_B\",\r\n",
    "        \"race_A\",\r\n",
    "        \"race_H\",\r\n",
    "        \"race_I\",\r\n",
    "        \"race_O\",\r\n",
    "        \"re_escp_hist_1\",\r\n",
    "        \"re_escp_hist_2\",\r\n",
    "        \"re_escp_hist_3\",\r\n",
    "        \"re_escp_hist_4\",\r\n",
    "        \"re_escp_hist_5\"\r\n",
    "    ]\r\n",
    ")"
   ],
   "outputs": [],
   "metadata": {}
  },
  {
   "cell_type": "code",
   "execution_count": 12,
   "source": [
    "re_95conf_1lvl_sampling_mc = mc_experiments.MCExp(data, \"re_custody_level\", re_rf_model)"
   ],
   "outputs": [],
   "metadata": {}
  },
  {
   "cell_type": "code",
   "execution_count": 13,
   "source": [
    "re_95conf_1lvl_sampling_mc.run_sim(\r\n",
    "    N=100,\r\n",
    "    sampling_fn=re_95conf_1lvl_fn,\r\n",
    "    ignore_vars=[ \"control_number\" ]\r\n",
    ")"
   ],
   "outputs": [],
   "metadata": {}
  },
  {
   "cell_type": "code",
   "execution_count": 14,
   "source": [
    "re_95conf_1lvl_sampling_mc.plot_result_hist(True, save_to=\"../paper/images/re_95conf_mc.png\")"
   ],
   "outputs": [
    {
     "output_type": "display_data",
     "data": {
      "text/plain": [
       "<Figure size 1152x648 with 4 Axes>"
      ],
      "image/svg+xml": "<?xml version=\"1.0\" encoding=\"utf-8\" standalone=\"no\"?>\r\n<!DOCTYPE svg PUBLIC \"-//W3C//DTD SVG 1.1//EN\"\r\n  \"http://www.w3.org/Graphics/SVG/1.1/DTD/svg11.dtd\">\r\n<svg height=\"535.43625pt\" version=\"1.1\" viewBox=\"0 0 930.103125 535.43625\" width=\"930.103125pt\" xmlns=\"http://www.w3.org/2000/svg\" xmlns:xlink=\"http://www.w3.org/1999/xlink\">\r\n <metadata>\r\n  <rdf:RDF xmlns:cc=\"http://creativecommons.org/ns#\" xmlns:dc=\"http://purl.org/dc/elements/1.1/\" xmlns:rdf=\"http://www.w3.org/1999/02/22-rdf-syntax-ns#\">\r\n   <cc:Work>\r\n    <dc:type rdf:resource=\"http://purl.org/dc/dcmitype/StillImage\"/>\r\n    <dc:date>2021-08-19T11:32:55.522542</dc:date>\r\n    <dc:format>image/svg+xml</dc:format>\r\n    <dc:creator>\r\n     <cc:Agent>\r\n      <dc:title>Matplotlib v3.4.2, https://matplotlib.org/</dc:title>\r\n     </cc:Agent>\r\n    </dc:creator>\r\n   </cc:Work>\r\n  </rdf:RDF>\r\n </metadata>\r\n <defs>\r\n  <style type=\"text/css\">*{stroke-linecap:butt;stroke-linejoin:round;}</style>\r\n </defs>\r\n <g id=\"figure_1\">\r\n  <g id=\"patch_1\">\r\n   <path d=\"M 0 535.43625 \r\nL 930.103125 535.43625 \r\nL 930.103125 0 \r\nL 0 0 \r\nz\r\n\" style=\"fill:none;\"/>\r\n  </g>\r\n  <g id=\"axes_1\">\r\n   <g id=\"patch_2\">\r\n    <path d=\"M 30.103125 511.558125 \r\nL 224.190082 511.558125 \r\nL 224.190082 22.318125 \r\nL 30.103125 22.318125 \r\nz\r\n\" style=\"fill:#ffffff;\"/>\r\n   </g>\r\n   <g id=\"patch_3\">\r\n    <path clip-path=\"url(#p15a0ae62aa)\" d=\"M 38.925259 511.558125 \r\nL 215.367947 511.558125 \r\nL 215.367947 45.615268 \r\nL 38.925259 45.615268 \r\nz\r\n\" style=\"fill:#1f77b4;\"/>\r\n   </g>\r\n   <g id=\"matplotlib.axis_1\">\r\n    <g id=\"xtick_1\">\r\n     <g id=\"line2d_1\">\r\n      <defs>\r\n       <path d=\"M 0 0 \r\nL 0 3.5 \r\n\" id=\"m0106f8fa54\" style=\"stroke:#000000;stroke-width:0.8;\"/>\r\n      </defs>\r\n      <g>\r\n       <use style=\"stroke:#000000;stroke-width:0.8;\" x=\"127.146603\" xlink:href=\"#m0106f8fa54\" y=\"511.558125\"/>\r\n      </g>\r\n     </g>\r\n     <g id=\"text_1\">\r\n      <!-- 0.0 -->\r\n      <g transform=\"translate(119.195041 526.156562)scale(0.1 -0.1)\">\r\n       <defs>\r\n        <path d=\"M 2034 4250 \r\nQ 1547 4250 1301 3770 \r\nQ 1056 3291 1056 2328 \r\nQ 1056 1369 1301 889 \r\nQ 1547 409 2034 409 \r\nQ 2525 409 2770 889 \r\nQ 3016 1369 3016 2328 \r\nQ 3016 3291 2770 3770 \r\nQ 2525 4250 2034 4250 \r\nz\r\nM 2034 4750 \r\nQ 2819 4750 3233 4129 \r\nQ 3647 3509 3647 2328 \r\nQ 3647 1150 3233 529 \r\nQ 2819 -91 2034 -91 \r\nQ 1250 -91 836 529 \r\nQ 422 1150 422 2328 \r\nQ 422 3509 836 4129 \r\nQ 1250 4750 2034 4750 \r\nz\r\n\" id=\"DejaVuSans-30\" transform=\"scale(0.015625)\"/>\r\n        <path d=\"M 684 794 \r\nL 1344 794 \r\nL 1344 0 \r\nL 684 0 \r\nL 684 794 \r\nz\r\n\" id=\"DejaVuSans-2e\" transform=\"scale(0.015625)\"/>\r\n       </defs>\r\n       <use xlink:href=\"#DejaVuSans-30\"/>\r\n       <use x=\"63.623047\" xlink:href=\"#DejaVuSans-2e\"/>\r\n       <use x=\"95.410156\" xlink:href=\"#DejaVuSans-30\"/>\r\n      </g>\r\n     </g>\r\n    </g>\r\n   </g>\r\n   <g id=\"matplotlib.axis_2\">\r\n    <g id=\"ytick_1\">\r\n     <g id=\"line2d_2\">\r\n      <defs>\r\n       <path d=\"M 0 0 \r\nL -3.5 0 \r\n\" id=\"m5e53a4cde1\" style=\"stroke:#000000;stroke-width:0.8;\"/>\r\n      </defs>\r\n      <g>\r\n       <use style=\"stroke:#000000;stroke-width:0.8;\" x=\"30.103125\" xlink:href=\"#m5e53a4cde1\" y=\"511.558125\"/>\r\n      </g>\r\n     </g>\r\n     <g id=\"text_2\">\r\n      <!-- 0.0 -->\r\n      <g transform=\"translate(7.2 515.357344)scale(0.1 -0.1)\">\r\n       <use xlink:href=\"#DejaVuSans-30\"/>\r\n       <use x=\"63.623047\" xlink:href=\"#DejaVuSans-2e\"/>\r\n       <use x=\"95.410156\" xlink:href=\"#DejaVuSans-30\"/>\r\n      </g>\r\n     </g>\r\n    </g>\r\n    <g id=\"ytick_2\">\r\n     <g id=\"line2d_3\">\r\n      <g>\r\n       <use style=\"stroke:#000000;stroke-width:0.8;\" x=\"30.103125\" xlink:href=\"#m5e53a4cde1\" y=\"418.369554\"/>\r\n      </g>\r\n     </g>\r\n     <g id=\"text_3\">\r\n      <!-- 0.2 -->\r\n      <g transform=\"translate(7.2 422.168772)scale(0.1 -0.1)\">\r\n       <defs>\r\n        <path d=\"M 1228 531 \r\nL 3431 531 \r\nL 3431 0 \r\nL 469 0 \r\nL 469 531 \r\nQ 828 903 1448 1529 \r\nQ 2069 2156 2228 2338 \r\nQ 2531 2678 2651 2914 \r\nQ 2772 3150 2772 3378 \r\nQ 2772 3750 2511 3984 \r\nQ 2250 4219 1831 4219 \r\nQ 1534 4219 1204 4116 \r\nQ 875 4013 500 3803 \r\nL 500 4441 \r\nQ 881 4594 1212 4672 \r\nQ 1544 4750 1819 4750 \r\nQ 2544 4750 2975 4387 \r\nQ 3406 4025 3406 3419 \r\nQ 3406 3131 3298 2873 \r\nQ 3191 2616 2906 2266 \r\nQ 2828 2175 2409 1742 \r\nQ 1991 1309 1228 531 \r\nz\r\n\" id=\"DejaVuSans-32\" transform=\"scale(0.015625)\"/>\r\n       </defs>\r\n       <use xlink:href=\"#DejaVuSans-30\"/>\r\n       <use x=\"63.623047\" xlink:href=\"#DejaVuSans-2e\"/>\r\n       <use x=\"95.410156\" xlink:href=\"#DejaVuSans-32\"/>\r\n      </g>\r\n     </g>\r\n    </g>\r\n    <g id=\"ytick_3\">\r\n     <g id=\"line2d_4\">\r\n      <g>\r\n       <use style=\"stroke:#000000;stroke-width:0.8;\" x=\"30.103125\" xlink:href=\"#m5e53a4cde1\" y=\"325.180982\"/>\r\n      </g>\r\n     </g>\r\n     <g id=\"text_4\">\r\n      <!-- 0.4 -->\r\n      <g transform=\"translate(7.2 328.980201)scale(0.1 -0.1)\">\r\n       <defs>\r\n        <path d=\"M 2419 4116 \r\nL 825 1625 \r\nL 2419 1625 \r\nL 2419 4116 \r\nz\r\nM 2253 4666 \r\nL 3047 4666 \r\nL 3047 1625 \r\nL 3713 1625 \r\nL 3713 1100 \r\nL 3047 1100 \r\nL 3047 0 \r\nL 2419 0 \r\nL 2419 1100 \r\nL 313 1100 \r\nL 313 1709 \r\nL 2253 4666 \r\nz\r\n\" id=\"DejaVuSans-34\" transform=\"scale(0.015625)\"/>\r\n       </defs>\r\n       <use xlink:href=\"#DejaVuSans-30\"/>\r\n       <use x=\"63.623047\" xlink:href=\"#DejaVuSans-2e\"/>\r\n       <use x=\"95.410156\" xlink:href=\"#DejaVuSans-34\"/>\r\n      </g>\r\n     </g>\r\n    </g>\r\n    <g id=\"ytick_4\">\r\n     <g id=\"line2d_5\">\r\n      <g>\r\n       <use style=\"stroke:#000000;stroke-width:0.8;\" x=\"30.103125\" xlink:href=\"#m5e53a4cde1\" y=\"231.992411\"/>\r\n      </g>\r\n     </g>\r\n     <g id=\"text_5\">\r\n      <!-- 0.6 -->\r\n      <g transform=\"translate(7.2 235.791629)scale(0.1 -0.1)\">\r\n       <defs>\r\n        <path d=\"M 2113 2584 \r\nQ 1688 2584 1439 2293 \r\nQ 1191 2003 1191 1497 \r\nQ 1191 994 1439 701 \r\nQ 1688 409 2113 409 \r\nQ 2538 409 2786 701 \r\nQ 3034 994 3034 1497 \r\nQ 3034 2003 2786 2293 \r\nQ 2538 2584 2113 2584 \r\nz\r\nM 3366 4563 \r\nL 3366 3988 \r\nQ 3128 4100 2886 4159 \r\nQ 2644 4219 2406 4219 \r\nQ 1781 4219 1451 3797 \r\nQ 1122 3375 1075 2522 \r\nQ 1259 2794 1537 2939 \r\nQ 1816 3084 2150 3084 \r\nQ 2853 3084 3261 2657 \r\nQ 3669 2231 3669 1497 \r\nQ 3669 778 3244 343 \r\nQ 2819 -91 2113 -91 \r\nQ 1303 -91 875 529 \r\nQ 447 1150 447 2328 \r\nQ 447 3434 972 4092 \r\nQ 1497 4750 2381 4750 \r\nQ 2619 4750 2861 4703 \r\nQ 3103 4656 3366 4563 \r\nz\r\n\" id=\"DejaVuSans-36\" transform=\"scale(0.015625)\"/>\r\n       </defs>\r\n       <use xlink:href=\"#DejaVuSans-30\"/>\r\n       <use x=\"63.623047\" xlink:href=\"#DejaVuSans-2e\"/>\r\n       <use x=\"95.410156\" xlink:href=\"#DejaVuSans-36\"/>\r\n      </g>\r\n     </g>\r\n    </g>\r\n    <g id=\"ytick_5\">\r\n     <g id=\"line2d_6\">\r\n      <g>\r\n       <use style=\"stroke:#000000;stroke-width:0.8;\" x=\"30.103125\" xlink:href=\"#m5e53a4cde1\" y=\"138.803839\"/>\r\n      </g>\r\n     </g>\r\n     <g id=\"text_6\">\r\n      <!-- 0.8 -->\r\n      <g transform=\"translate(7.2 142.603058)scale(0.1 -0.1)\">\r\n       <defs>\r\n        <path d=\"M 2034 2216 \r\nQ 1584 2216 1326 1975 \r\nQ 1069 1734 1069 1313 \r\nQ 1069 891 1326 650 \r\nQ 1584 409 2034 409 \r\nQ 2484 409 2743 651 \r\nQ 3003 894 3003 1313 \r\nQ 3003 1734 2745 1975 \r\nQ 2488 2216 2034 2216 \r\nz\r\nM 1403 2484 \r\nQ 997 2584 770 2862 \r\nQ 544 3141 544 3541 \r\nQ 544 4100 942 4425 \r\nQ 1341 4750 2034 4750 \r\nQ 2731 4750 3128 4425 \r\nQ 3525 4100 3525 3541 \r\nQ 3525 3141 3298 2862 \r\nQ 3072 2584 2669 2484 \r\nQ 3125 2378 3379 2068 \r\nQ 3634 1759 3634 1313 \r\nQ 3634 634 3220 271 \r\nQ 2806 -91 2034 -91 \r\nQ 1263 -91 848 271 \r\nQ 434 634 434 1313 \r\nQ 434 1759 690 2068 \r\nQ 947 2378 1403 2484 \r\nz\r\nM 1172 3481 \r\nQ 1172 3119 1398 2916 \r\nQ 1625 2713 2034 2713 \r\nQ 2441 2713 2670 2916 \r\nQ 2900 3119 2900 3481 \r\nQ 2900 3844 2670 4047 \r\nQ 2441 4250 2034 4250 \r\nQ 1625 4250 1398 4047 \r\nQ 1172 3844 1172 3481 \r\nz\r\n\" id=\"DejaVuSans-38\" transform=\"scale(0.015625)\"/>\r\n       </defs>\r\n       <use xlink:href=\"#DejaVuSans-30\"/>\r\n       <use x=\"63.623047\" xlink:href=\"#DejaVuSans-2e\"/>\r\n       <use x=\"95.410156\" xlink:href=\"#DejaVuSans-38\"/>\r\n      </g>\r\n     </g>\r\n    </g>\r\n    <g id=\"ytick_6\">\r\n     <g id=\"line2d_7\">\r\n      <g>\r\n       <use style=\"stroke:#000000;stroke-width:0.8;\" x=\"30.103125\" xlink:href=\"#m5e53a4cde1\" y=\"45.615268\"/>\r\n      </g>\r\n     </g>\r\n     <g id=\"text_7\">\r\n      <!-- 1.0 -->\r\n      <g transform=\"translate(7.2 49.414487)scale(0.1 -0.1)\">\r\n       <defs>\r\n        <path d=\"M 794 531 \r\nL 1825 531 \r\nL 1825 4091 \r\nL 703 3866 \r\nL 703 4441 \r\nL 1819 4666 \r\nL 2450 4666 \r\nL 2450 531 \r\nL 3481 531 \r\nL 3481 0 \r\nL 794 0 \r\nL 794 531 \r\nz\r\n\" id=\"DejaVuSans-31\" transform=\"scale(0.015625)\"/>\r\n       </defs>\r\n       <use xlink:href=\"#DejaVuSans-31\"/>\r\n       <use x=\"63.623047\" xlink:href=\"#DejaVuSans-2e\"/>\r\n       <use x=\"95.410156\" xlink:href=\"#DejaVuSans-30\"/>\r\n      </g>\r\n     </g>\r\n    </g>\r\n   </g>\r\n   <g id=\"patch_4\">\r\n    <path d=\"M 30.103125 511.558125 \r\nL 30.103125 22.318125 \r\n\" style=\"fill:none;stroke:#000000;stroke-linecap:square;stroke-linejoin:miter;stroke-width:0.8;\"/>\r\n   </g>\r\n   <g id=\"patch_5\">\r\n    <path d=\"M 224.190082 511.558125 \r\nL 224.190082 22.318125 \r\n\" style=\"fill:none;stroke:#000000;stroke-linecap:square;stroke-linejoin:miter;stroke-width:0.8;\"/>\r\n   </g>\r\n   <g id=\"patch_6\">\r\n    <path d=\"M 30.103125 511.558125 \r\nL 224.190082 511.558125 \r\n\" style=\"fill:none;stroke:#000000;stroke-linecap:square;stroke-linejoin:miter;stroke-width:0.8;\"/>\r\n   </g>\r\n   <g id=\"patch_7\">\r\n    <path d=\"M 30.103125 22.318125 \r\nL 224.190082 22.318125 \r\n\" style=\"fill:none;stroke:#000000;stroke-linecap:square;stroke-linejoin:miter;stroke-width:0.8;\"/>\r\n   </g>\r\n   <g id=\"text_8\">\r\n    <!-- Results for Custody Level 2 -->\r\n    <g transform=\"translate(45.446291 16.318125)scale(0.12 -0.12)\">\r\n     <defs>\r\n      <path d=\"M 2841 2188 \r\nQ 3044 2119 3236 1894 \r\nQ 3428 1669 3622 1275 \r\nL 4263 0 \r\nL 3584 0 \r\nL 2988 1197 \r\nQ 2756 1666 2539 1819 \r\nQ 2322 1972 1947 1972 \r\nL 1259 1972 \r\nL 1259 0 \r\nL 628 0 \r\nL 628 4666 \r\nL 2053 4666 \r\nQ 2853 4666 3247 4331 \r\nQ 3641 3997 3641 3322 \r\nQ 3641 2881 3436 2590 \r\nQ 3231 2300 2841 2188 \r\nz\r\nM 1259 4147 \r\nL 1259 2491 \r\nL 2053 2491 \r\nQ 2509 2491 2742 2702 \r\nQ 2975 2913 2975 3322 \r\nQ 2975 3731 2742 3939 \r\nQ 2509 4147 2053 4147 \r\nL 1259 4147 \r\nz\r\n\" id=\"DejaVuSans-52\" transform=\"scale(0.015625)\"/>\r\n      <path d=\"M 3597 1894 \r\nL 3597 1613 \r\nL 953 1613 \r\nQ 991 1019 1311 708 \r\nQ 1631 397 2203 397 \r\nQ 2534 397 2845 478 \r\nQ 3156 559 3463 722 \r\nL 3463 178 \r\nQ 3153 47 2828 -22 \r\nQ 2503 -91 2169 -91 \r\nQ 1331 -91 842 396 \r\nQ 353 884 353 1716 \r\nQ 353 2575 817 3079 \r\nQ 1281 3584 2069 3584 \r\nQ 2775 3584 3186 3129 \r\nQ 3597 2675 3597 1894 \r\nz\r\nM 3022 2063 \r\nQ 3016 2534 2758 2815 \r\nQ 2500 3097 2075 3097 \r\nQ 1594 3097 1305 2825 \r\nQ 1016 2553 972 2059 \r\nL 3022 2063 \r\nz\r\n\" id=\"DejaVuSans-65\" transform=\"scale(0.015625)\"/>\r\n      <path d=\"M 2834 3397 \r\nL 2834 2853 \r\nQ 2591 2978 2328 3040 \r\nQ 2066 3103 1784 3103 \r\nQ 1356 3103 1142 2972 \r\nQ 928 2841 928 2578 \r\nQ 928 2378 1081 2264 \r\nQ 1234 2150 1697 2047 \r\nL 1894 2003 \r\nQ 2506 1872 2764 1633 \r\nQ 3022 1394 3022 966 \r\nQ 3022 478 2636 193 \r\nQ 2250 -91 1575 -91 \r\nQ 1294 -91 989 -36 \r\nQ 684 19 347 128 \r\nL 347 722 \r\nQ 666 556 975 473 \r\nQ 1284 391 1588 391 \r\nQ 1994 391 2212 530 \r\nQ 2431 669 2431 922 \r\nQ 2431 1156 2273 1281 \r\nQ 2116 1406 1581 1522 \r\nL 1381 1569 \r\nQ 847 1681 609 1914 \r\nQ 372 2147 372 2553 \r\nQ 372 3047 722 3315 \r\nQ 1072 3584 1716 3584 \r\nQ 2034 3584 2315 3537 \r\nQ 2597 3491 2834 3397 \r\nz\r\n\" id=\"DejaVuSans-73\" transform=\"scale(0.015625)\"/>\r\n      <path d=\"M 544 1381 \r\nL 544 3500 \r\nL 1119 3500 \r\nL 1119 1403 \r\nQ 1119 906 1312 657 \r\nQ 1506 409 1894 409 \r\nQ 2359 409 2629 706 \r\nQ 2900 1003 2900 1516 \r\nL 2900 3500 \r\nL 3475 3500 \r\nL 3475 0 \r\nL 2900 0 \r\nL 2900 538 \r\nQ 2691 219 2414 64 \r\nQ 2138 -91 1772 -91 \r\nQ 1169 -91 856 284 \r\nQ 544 659 544 1381 \r\nz\r\nM 1991 3584 \r\nL 1991 3584 \r\nz\r\n\" id=\"DejaVuSans-75\" transform=\"scale(0.015625)\"/>\r\n      <path d=\"M 603 4863 \r\nL 1178 4863 \r\nL 1178 0 \r\nL 603 0 \r\nL 603 4863 \r\nz\r\n\" id=\"DejaVuSans-6c\" transform=\"scale(0.015625)\"/>\r\n      <path d=\"M 1172 4494 \r\nL 1172 3500 \r\nL 2356 3500 \r\nL 2356 3053 \r\nL 1172 3053 \r\nL 1172 1153 \r\nQ 1172 725 1289 603 \r\nQ 1406 481 1766 481 \r\nL 2356 481 \r\nL 2356 0 \r\nL 1766 0 \r\nQ 1100 0 847 248 \r\nQ 594 497 594 1153 \r\nL 594 3053 \r\nL 172 3053 \r\nL 172 3500 \r\nL 594 3500 \r\nL 594 4494 \r\nL 1172 4494 \r\nz\r\n\" id=\"DejaVuSans-74\" transform=\"scale(0.015625)\"/>\r\n      <path id=\"DejaVuSans-20\" transform=\"scale(0.015625)\"/>\r\n      <path d=\"M 2375 4863 \r\nL 2375 4384 \r\nL 1825 4384 \r\nQ 1516 4384 1395 4259 \r\nQ 1275 4134 1275 3809 \r\nL 1275 3500 \r\nL 2222 3500 \r\nL 2222 3053 \r\nL 1275 3053 \r\nL 1275 0 \r\nL 697 0 \r\nL 697 3053 \r\nL 147 3053 \r\nL 147 3500 \r\nL 697 3500 \r\nL 697 3744 \r\nQ 697 4328 969 4595 \r\nQ 1241 4863 1831 4863 \r\nL 2375 4863 \r\nz\r\n\" id=\"DejaVuSans-66\" transform=\"scale(0.015625)\"/>\r\n      <path d=\"M 1959 3097 \r\nQ 1497 3097 1228 2736 \r\nQ 959 2375 959 1747 \r\nQ 959 1119 1226 758 \r\nQ 1494 397 1959 397 \r\nQ 2419 397 2687 759 \r\nQ 2956 1122 2956 1747 \r\nQ 2956 2369 2687 2733 \r\nQ 2419 3097 1959 3097 \r\nz\r\nM 1959 3584 \r\nQ 2709 3584 3137 3096 \r\nQ 3566 2609 3566 1747 \r\nQ 3566 888 3137 398 \r\nQ 2709 -91 1959 -91 \r\nQ 1206 -91 779 398 \r\nQ 353 888 353 1747 \r\nQ 353 2609 779 3096 \r\nQ 1206 3584 1959 3584 \r\nz\r\n\" id=\"DejaVuSans-6f\" transform=\"scale(0.015625)\"/>\r\n      <path d=\"M 2631 2963 \r\nQ 2534 3019 2420 3045 \r\nQ 2306 3072 2169 3072 \r\nQ 1681 3072 1420 2755 \r\nQ 1159 2438 1159 1844 \r\nL 1159 0 \r\nL 581 0 \r\nL 581 3500 \r\nL 1159 3500 \r\nL 1159 2956 \r\nQ 1341 3275 1631 3429 \r\nQ 1922 3584 2338 3584 \r\nQ 2397 3584 2469 3576 \r\nQ 2541 3569 2628 3553 \r\nL 2631 2963 \r\nz\r\n\" id=\"DejaVuSans-72\" transform=\"scale(0.015625)\"/>\r\n      <path d=\"M 4122 4306 \r\nL 4122 3641 \r\nQ 3803 3938 3442 4084 \r\nQ 3081 4231 2675 4231 \r\nQ 1875 4231 1450 3742 \r\nQ 1025 3253 1025 2328 \r\nQ 1025 1406 1450 917 \r\nQ 1875 428 2675 428 \r\nQ 3081 428 3442 575 \r\nQ 3803 722 4122 1019 \r\nL 4122 359 \r\nQ 3791 134 3420 21 \r\nQ 3050 -91 2638 -91 \r\nQ 1578 -91 968 557 \r\nQ 359 1206 359 2328 \r\nQ 359 3453 968 4101 \r\nQ 1578 4750 2638 4750 \r\nQ 3056 4750 3426 4639 \r\nQ 3797 4528 4122 4306 \r\nz\r\n\" id=\"DejaVuSans-43\" transform=\"scale(0.015625)\"/>\r\n      <path d=\"M 2906 2969 \r\nL 2906 4863 \r\nL 3481 4863 \r\nL 3481 0 \r\nL 2906 0 \r\nL 2906 525 \r\nQ 2725 213 2448 61 \r\nQ 2172 -91 1784 -91 \r\nQ 1150 -91 751 415 \r\nQ 353 922 353 1747 \r\nQ 353 2572 751 3078 \r\nQ 1150 3584 1784 3584 \r\nQ 2172 3584 2448 3432 \r\nQ 2725 3281 2906 2969 \r\nz\r\nM 947 1747 \r\nQ 947 1113 1208 752 \r\nQ 1469 391 1925 391 \r\nQ 2381 391 2643 752 \r\nQ 2906 1113 2906 1747 \r\nQ 2906 2381 2643 2742 \r\nQ 2381 3103 1925 3103 \r\nQ 1469 3103 1208 2742 \r\nQ 947 2381 947 1747 \r\nz\r\n\" id=\"DejaVuSans-64\" transform=\"scale(0.015625)\"/>\r\n      <path d=\"M 2059 -325 \r\nQ 1816 -950 1584 -1140 \r\nQ 1353 -1331 966 -1331 \r\nL 506 -1331 \r\nL 506 -850 \r\nL 844 -850 \r\nQ 1081 -850 1212 -737 \r\nQ 1344 -625 1503 -206 \r\nL 1606 56 \r\nL 191 3500 \r\nL 800 3500 \r\nL 1894 763 \r\nL 2988 3500 \r\nL 3597 3500 \r\nL 2059 -325 \r\nz\r\n\" id=\"DejaVuSans-79\" transform=\"scale(0.015625)\"/>\r\n      <path d=\"M 628 4666 \r\nL 1259 4666 \r\nL 1259 531 \r\nL 3531 531 \r\nL 3531 0 \r\nL 628 0 \r\nL 628 4666 \r\nz\r\n\" id=\"DejaVuSans-4c\" transform=\"scale(0.015625)\"/>\r\n      <path d=\"M 191 3500 \r\nL 800 3500 \r\nL 1894 563 \r\nL 2988 3500 \r\nL 3597 3500 \r\nL 2284 0 \r\nL 1503 0 \r\nL 191 3500 \r\nz\r\n\" id=\"DejaVuSans-76\" transform=\"scale(0.015625)\"/>\r\n     </defs>\r\n     <use xlink:href=\"#DejaVuSans-52\"/>\r\n     <use x=\"64.982422\" xlink:href=\"#DejaVuSans-65\"/>\r\n     <use x=\"126.505859\" xlink:href=\"#DejaVuSans-73\"/>\r\n     <use x=\"178.605469\" xlink:href=\"#DejaVuSans-75\"/>\r\n     <use x=\"241.984375\" xlink:href=\"#DejaVuSans-6c\"/>\r\n     <use x=\"269.767578\" xlink:href=\"#DejaVuSans-74\"/>\r\n     <use x=\"308.976562\" xlink:href=\"#DejaVuSans-73\"/>\r\n     <use x=\"361.076172\" xlink:href=\"#DejaVuSans-20\"/>\r\n     <use x=\"392.863281\" xlink:href=\"#DejaVuSans-66\"/>\r\n     <use x=\"428.068359\" xlink:href=\"#DejaVuSans-6f\"/>\r\n     <use x=\"489.25\" xlink:href=\"#DejaVuSans-72\"/>\r\n     <use x=\"530.363281\" xlink:href=\"#DejaVuSans-20\"/>\r\n     <use x=\"562.150391\" xlink:href=\"#DejaVuSans-43\"/>\r\n     <use x=\"631.974609\" xlink:href=\"#DejaVuSans-75\"/>\r\n     <use x=\"695.353516\" xlink:href=\"#DejaVuSans-73\"/>\r\n     <use x=\"747.453125\" xlink:href=\"#DejaVuSans-74\"/>\r\n     <use x=\"786.662109\" xlink:href=\"#DejaVuSans-6f\"/>\r\n     <use x=\"847.84375\" xlink:href=\"#DejaVuSans-64\"/>\r\n     <use x=\"911.320312\" xlink:href=\"#DejaVuSans-79\"/>\r\n     <use x=\"970.5\" xlink:href=\"#DejaVuSans-20\"/>\r\n     <use x=\"1002.287109\" xlink:href=\"#DejaVuSans-4c\"/>\r\n     <use x=\"1056.25\" xlink:href=\"#DejaVuSans-65\"/>\r\n     <use x=\"1117.773438\" xlink:href=\"#DejaVuSans-76\"/>\r\n     <use x=\"1176.953125\" xlink:href=\"#DejaVuSans-65\"/>\r\n     <use x=\"1238.476562\" xlink:href=\"#DejaVuSans-6c\"/>\r\n     <use x=\"1266.259766\" xlink:href=\"#DejaVuSans-20\"/>\r\n     <use x=\"1298.046875\" xlink:href=\"#DejaVuSans-32\"/>\r\n    </g>\r\n   </g>\r\n  </g>\r\n  <g id=\"axes_2\">\r\n   <g id=\"patch_8\">\r\n    <path d=\"M 263.007473 511.558125 \r\nL 457.094429 511.558125 \r\nL 457.094429 22.318125 \r\nL 263.007473 22.318125 \r\nz\r\n\" style=\"fill:#ffffff;\"/>\r\n   </g>\r\n   <g id=\"patch_9\">\r\n    <path clip-path=\"url(#p5fd9a4efb6)\" d=\"M 271.829607 511.558125 \r\nL 448.272295 511.558125 \r\nL 448.272295 45.615268 \r\nL 271.829607 45.615268 \r\nz\r\n\" style=\"fill:#1f77b4;\"/>\r\n   </g>\r\n   <g id=\"matplotlib.axis_3\">\r\n    <g id=\"xtick_2\">\r\n     <g id=\"line2d_8\">\r\n      <g>\r\n       <use style=\"stroke:#000000;stroke-width:0.8;\" x=\"360.050951\" xlink:href=\"#m0106f8fa54\" y=\"511.558125\"/>\r\n      </g>\r\n     </g>\r\n     <g id=\"text_9\">\r\n      <!-- -1.0 -->\r\n      <g transform=\"translate(350.295482 526.156562)scale(0.1 -0.1)\">\r\n       <defs>\r\n        <path d=\"M 313 2009 \r\nL 1997 2009 \r\nL 1997 1497 \r\nL 313 1497 \r\nL 313 2009 \r\nz\r\n\" id=\"DejaVuSans-2d\" transform=\"scale(0.015625)\"/>\r\n       </defs>\r\n       <use xlink:href=\"#DejaVuSans-2d\"/>\r\n       <use x=\"36.083984\" xlink:href=\"#DejaVuSans-31\"/>\r\n       <use x=\"99.707031\" xlink:href=\"#DejaVuSans-2e\"/>\r\n       <use x=\"131.494141\" xlink:href=\"#DejaVuSans-30\"/>\r\n      </g>\r\n     </g>\r\n    </g>\r\n   </g>\r\n   <g id=\"matplotlib.axis_4\">\r\n    <g id=\"ytick_7\">\r\n     <g id=\"line2d_9\">\r\n      <g>\r\n       <use style=\"stroke:#000000;stroke-width:0.8;\" x=\"263.007473\" xlink:href=\"#m5e53a4cde1\" y=\"511.558125\"/>\r\n      </g>\r\n     </g>\r\n    </g>\r\n    <g id=\"ytick_8\">\r\n     <g id=\"line2d_10\">\r\n      <g>\r\n       <use style=\"stroke:#000000;stroke-width:0.8;\" x=\"263.007473\" xlink:href=\"#m5e53a4cde1\" y=\"418.369554\"/>\r\n      </g>\r\n     </g>\r\n    </g>\r\n    <g id=\"ytick_9\">\r\n     <g id=\"line2d_11\">\r\n      <g>\r\n       <use style=\"stroke:#000000;stroke-width:0.8;\" x=\"263.007473\" xlink:href=\"#m5e53a4cde1\" y=\"325.180982\"/>\r\n      </g>\r\n     </g>\r\n    </g>\r\n    <g id=\"ytick_10\">\r\n     <g id=\"line2d_12\">\r\n      <g>\r\n       <use style=\"stroke:#000000;stroke-width:0.8;\" x=\"263.007473\" xlink:href=\"#m5e53a4cde1\" y=\"231.992411\"/>\r\n      </g>\r\n     </g>\r\n    </g>\r\n    <g id=\"ytick_11\">\r\n     <g id=\"line2d_13\">\r\n      <g>\r\n       <use style=\"stroke:#000000;stroke-width:0.8;\" x=\"263.007473\" xlink:href=\"#m5e53a4cde1\" y=\"138.803839\"/>\r\n      </g>\r\n     </g>\r\n    </g>\r\n    <g id=\"ytick_12\">\r\n     <g id=\"line2d_14\">\r\n      <g>\r\n       <use style=\"stroke:#000000;stroke-width:0.8;\" x=\"263.007473\" xlink:href=\"#m5e53a4cde1\" y=\"45.615268\"/>\r\n      </g>\r\n     </g>\r\n    </g>\r\n   </g>\r\n   <g id=\"patch_10\">\r\n    <path d=\"M 263.007473 511.558125 \r\nL 263.007473 22.318125 \r\n\" style=\"fill:none;stroke:#000000;stroke-linecap:square;stroke-linejoin:miter;stroke-width:0.8;\"/>\r\n   </g>\r\n   <g id=\"patch_11\">\r\n    <path d=\"M 457.094429 511.558125 \r\nL 457.094429 22.318125 \r\n\" style=\"fill:none;stroke:#000000;stroke-linecap:square;stroke-linejoin:miter;stroke-width:0.8;\"/>\r\n   </g>\r\n   <g id=\"patch_12\">\r\n    <path d=\"M 263.007473 511.558125 \r\nL 457.094429 511.558125 \r\n\" style=\"fill:none;stroke:#000000;stroke-linecap:square;stroke-linejoin:miter;stroke-width:0.8;\"/>\r\n   </g>\r\n   <g id=\"patch_13\">\r\n    <path d=\"M 263.007473 22.318125 \r\nL 457.094429 22.318125 \r\n\" style=\"fill:none;stroke:#000000;stroke-linecap:square;stroke-linejoin:miter;stroke-width:0.8;\"/>\r\n   </g>\r\n   <g id=\"text_10\">\r\n    <!-- Results for Custody Level 3 -->\r\n    <g transform=\"translate(278.350639 16.318125)scale(0.12 -0.12)\">\r\n     <defs>\r\n      <path d=\"M 2597 2516 \r\nQ 3050 2419 3304 2112 \r\nQ 3559 1806 3559 1356 \r\nQ 3559 666 3084 287 \r\nQ 2609 -91 1734 -91 \r\nQ 1441 -91 1130 -33 \r\nQ 819 25 488 141 \r\nL 488 750 \r\nQ 750 597 1062 519 \r\nQ 1375 441 1716 441 \r\nQ 2309 441 2620 675 \r\nQ 2931 909 2931 1356 \r\nQ 2931 1769 2642 2001 \r\nQ 2353 2234 1838 2234 \r\nL 1294 2234 \r\nL 1294 2753 \r\nL 1863 2753 \r\nQ 2328 2753 2575 2939 \r\nQ 2822 3125 2822 3475 \r\nQ 2822 3834 2567 4026 \r\nQ 2313 4219 1838 4219 \r\nQ 1578 4219 1281 4162 \r\nQ 984 4106 628 3988 \r\nL 628 4550 \r\nQ 988 4650 1302 4700 \r\nQ 1616 4750 1894 4750 \r\nQ 2613 4750 3031 4423 \r\nQ 3450 4097 3450 3541 \r\nQ 3450 3153 3228 2886 \r\nQ 3006 2619 2597 2516 \r\nz\r\n\" id=\"DejaVuSans-33\" transform=\"scale(0.015625)\"/>\r\n     </defs>\r\n     <use xlink:href=\"#DejaVuSans-52\"/>\r\n     <use x=\"64.982422\" xlink:href=\"#DejaVuSans-65\"/>\r\n     <use x=\"126.505859\" xlink:href=\"#DejaVuSans-73\"/>\r\n     <use x=\"178.605469\" xlink:href=\"#DejaVuSans-75\"/>\r\n     <use x=\"241.984375\" xlink:href=\"#DejaVuSans-6c\"/>\r\n     <use x=\"269.767578\" xlink:href=\"#DejaVuSans-74\"/>\r\n     <use x=\"308.976562\" xlink:href=\"#DejaVuSans-73\"/>\r\n     <use x=\"361.076172\" xlink:href=\"#DejaVuSans-20\"/>\r\n     <use x=\"392.863281\" xlink:href=\"#DejaVuSans-66\"/>\r\n     <use x=\"428.068359\" xlink:href=\"#DejaVuSans-6f\"/>\r\n     <use x=\"489.25\" xlink:href=\"#DejaVuSans-72\"/>\r\n     <use x=\"530.363281\" xlink:href=\"#DejaVuSans-20\"/>\r\n     <use x=\"562.150391\" xlink:href=\"#DejaVuSans-43\"/>\r\n     <use x=\"631.974609\" xlink:href=\"#DejaVuSans-75\"/>\r\n     <use x=\"695.353516\" xlink:href=\"#DejaVuSans-73\"/>\r\n     <use x=\"747.453125\" xlink:href=\"#DejaVuSans-74\"/>\r\n     <use x=\"786.662109\" xlink:href=\"#DejaVuSans-6f\"/>\r\n     <use x=\"847.84375\" xlink:href=\"#DejaVuSans-64\"/>\r\n     <use x=\"911.320312\" xlink:href=\"#DejaVuSans-79\"/>\r\n     <use x=\"970.5\" xlink:href=\"#DejaVuSans-20\"/>\r\n     <use x=\"1002.287109\" xlink:href=\"#DejaVuSans-4c\"/>\r\n     <use x=\"1056.25\" xlink:href=\"#DejaVuSans-65\"/>\r\n     <use x=\"1117.773438\" xlink:href=\"#DejaVuSans-76\"/>\r\n     <use x=\"1176.953125\" xlink:href=\"#DejaVuSans-65\"/>\r\n     <use x=\"1238.476562\" xlink:href=\"#DejaVuSans-6c\"/>\r\n     <use x=\"1266.259766\" xlink:href=\"#DejaVuSans-20\"/>\r\n     <use x=\"1298.046875\" xlink:href=\"#DejaVuSans-33\"/>\r\n    </g>\r\n   </g>\r\n  </g>\r\n  <g id=\"axes_3\">\r\n   <g id=\"patch_14\">\r\n    <path d=\"M 495.911821 511.558125 \r\nL 689.998777 511.558125 \r\nL 689.998777 22.318125 \r\nL 495.911821 22.318125 \r\nz\r\n\" style=\"fill:#ffffff;\"/>\r\n   </g>\r\n   <g id=\"patch_15\">\r\n    <path clip-path=\"url(#p974977b241)\" d=\"M 504.733955 511.558125 \r\nL 681.176643 511.558125 \r\nL 681.176643 45.615268 \r\nL 504.733955 45.615268 \r\nz\r\n\" style=\"fill:#1f77b4;\"/>\r\n   </g>\r\n   <g id=\"matplotlib.axis_5\">\r\n    <g id=\"xtick_3\">\r\n     <g id=\"line2d_15\">\r\n      <g>\r\n       <use style=\"stroke:#000000;stroke-width:0.8;\" x=\"592.955299\" xlink:href=\"#m0106f8fa54\" y=\"511.558125\"/>\r\n      </g>\r\n     </g>\r\n     <g id=\"text_11\">\r\n      <!-- -2.0 -->\r\n      <g transform=\"translate(583.19983 526.156562)scale(0.1 -0.1)\">\r\n       <use xlink:href=\"#DejaVuSans-2d\"/>\r\n       <use x=\"36.083984\" xlink:href=\"#DejaVuSans-32\"/>\r\n       <use x=\"99.707031\" xlink:href=\"#DejaVuSans-2e\"/>\r\n       <use x=\"131.494141\" xlink:href=\"#DejaVuSans-30\"/>\r\n      </g>\r\n     </g>\r\n    </g>\r\n   </g>\r\n   <g id=\"matplotlib.axis_6\">\r\n    <g id=\"ytick_13\">\r\n     <g id=\"line2d_16\">\r\n      <g>\r\n       <use style=\"stroke:#000000;stroke-width:0.8;\" x=\"495.911821\" xlink:href=\"#m5e53a4cde1\" y=\"511.558125\"/>\r\n      </g>\r\n     </g>\r\n    </g>\r\n    <g id=\"ytick_14\">\r\n     <g id=\"line2d_17\">\r\n      <g>\r\n       <use style=\"stroke:#000000;stroke-width:0.8;\" x=\"495.911821\" xlink:href=\"#m5e53a4cde1\" y=\"418.369554\"/>\r\n      </g>\r\n     </g>\r\n    </g>\r\n    <g id=\"ytick_15\">\r\n     <g id=\"line2d_18\">\r\n      <g>\r\n       <use style=\"stroke:#000000;stroke-width:0.8;\" x=\"495.911821\" xlink:href=\"#m5e53a4cde1\" y=\"325.180982\"/>\r\n      </g>\r\n     </g>\r\n    </g>\r\n    <g id=\"ytick_16\">\r\n     <g id=\"line2d_19\">\r\n      <g>\r\n       <use style=\"stroke:#000000;stroke-width:0.8;\" x=\"495.911821\" xlink:href=\"#m5e53a4cde1\" y=\"231.992411\"/>\r\n      </g>\r\n     </g>\r\n    </g>\r\n    <g id=\"ytick_17\">\r\n     <g id=\"line2d_20\">\r\n      <g>\r\n       <use style=\"stroke:#000000;stroke-width:0.8;\" x=\"495.911821\" xlink:href=\"#m5e53a4cde1\" y=\"138.803839\"/>\r\n      </g>\r\n     </g>\r\n    </g>\r\n    <g id=\"ytick_18\">\r\n     <g id=\"line2d_21\">\r\n      <g>\r\n       <use style=\"stroke:#000000;stroke-width:0.8;\" x=\"495.911821\" xlink:href=\"#m5e53a4cde1\" y=\"45.615268\"/>\r\n      </g>\r\n     </g>\r\n    </g>\r\n   </g>\r\n   <g id=\"patch_16\">\r\n    <path d=\"M 495.911821 511.558125 \r\nL 495.911821 22.318125 \r\n\" style=\"fill:none;stroke:#000000;stroke-linecap:square;stroke-linejoin:miter;stroke-width:0.8;\"/>\r\n   </g>\r\n   <g id=\"patch_17\">\r\n    <path d=\"M 689.998777 511.558125 \r\nL 689.998777 22.318125 \r\n\" style=\"fill:none;stroke:#000000;stroke-linecap:square;stroke-linejoin:miter;stroke-width:0.8;\"/>\r\n   </g>\r\n   <g id=\"patch_18\">\r\n    <path d=\"M 495.911821 511.558125 \r\nL 689.998777 511.558125 \r\n\" style=\"fill:none;stroke:#000000;stroke-linecap:square;stroke-linejoin:miter;stroke-width:0.8;\"/>\r\n   </g>\r\n   <g id=\"patch_19\">\r\n    <path d=\"M 495.911821 22.318125 \r\nL 689.998777 22.318125 \r\n\" style=\"fill:none;stroke:#000000;stroke-linecap:square;stroke-linejoin:miter;stroke-width:0.8;\"/>\r\n   </g>\r\n   <g id=\"text_12\">\r\n    <!-- Results for Custody Level 4 -->\r\n    <g transform=\"translate(511.254986 16.318125)scale(0.12 -0.12)\">\r\n     <use xlink:href=\"#DejaVuSans-52\"/>\r\n     <use x=\"64.982422\" xlink:href=\"#DejaVuSans-65\"/>\r\n     <use x=\"126.505859\" xlink:href=\"#DejaVuSans-73\"/>\r\n     <use x=\"178.605469\" xlink:href=\"#DejaVuSans-75\"/>\r\n     <use x=\"241.984375\" xlink:href=\"#DejaVuSans-6c\"/>\r\n     <use x=\"269.767578\" xlink:href=\"#DejaVuSans-74\"/>\r\n     <use x=\"308.976562\" xlink:href=\"#DejaVuSans-73\"/>\r\n     <use x=\"361.076172\" xlink:href=\"#DejaVuSans-20\"/>\r\n     <use x=\"392.863281\" xlink:href=\"#DejaVuSans-66\"/>\r\n     <use x=\"428.068359\" xlink:href=\"#DejaVuSans-6f\"/>\r\n     <use x=\"489.25\" xlink:href=\"#DejaVuSans-72\"/>\r\n     <use x=\"530.363281\" xlink:href=\"#DejaVuSans-20\"/>\r\n     <use x=\"562.150391\" xlink:href=\"#DejaVuSans-43\"/>\r\n     <use x=\"631.974609\" xlink:href=\"#DejaVuSans-75\"/>\r\n     <use x=\"695.353516\" xlink:href=\"#DejaVuSans-73\"/>\r\n     <use x=\"747.453125\" xlink:href=\"#DejaVuSans-74\"/>\r\n     <use x=\"786.662109\" xlink:href=\"#DejaVuSans-6f\"/>\r\n     <use x=\"847.84375\" xlink:href=\"#DejaVuSans-64\"/>\r\n     <use x=\"911.320312\" xlink:href=\"#DejaVuSans-79\"/>\r\n     <use x=\"970.5\" xlink:href=\"#DejaVuSans-20\"/>\r\n     <use x=\"1002.287109\" xlink:href=\"#DejaVuSans-4c\"/>\r\n     <use x=\"1056.25\" xlink:href=\"#DejaVuSans-65\"/>\r\n     <use x=\"1117.773438\" xlink:href=\"#DejaVuSans-76\"/>\r\n     <use x=\"1176.953125\" xlink:href=\"#DejaVuSans-65\"/>\r\n     <use x=\"1238.476562\" xlink:href=\"#DejaVuSans-6c\"/>\r\n     <use x=\"1266.259766\" xlink:href=\"#DejaVuSans-20\"/>\r\n     <use x=\"1298.046875\" xlink:href=\"#DejaVuSans-34\"/>\r\n    </g>\r\n   </g>\r\n  </g>\r\n  <g id=\"axes_4\">\r\n   <g id=\"patch_20\">\r\n    <path d=\"M 728.816168 511.558125 \r\nL 922.903125 511.558125 \r\nL 922.903125 22.318125 \r\nL 728.816168 22.318125 \r\nz\r\n\" style=\"fill:#ffffff;\"/>\r\n   </g>\r\n   <g id=\"patch_21\">\r\n    <path clip-path=\"url(#pe4af4f9002)\" d=\"M 737.638303 511.558125 \r\nL 914.080991 511.558125 \r\nL 914.080991 45.615268 \r\nL 737.638303 45.615268 \r\nz\r\n\" style=\"fill:#1f77b4;\"/>\r\n   </g>\r\n   <g id=\"matplotlib.axis_7\">\r\n    <g id=\"xtick_4\">\r\n     <g id=\"line2d_22\">\r\n      <g>\r\n       <use style=\"stroke:#000000;stroke-width:0.8;\" x=\"825.859647\" xlink:href=\"#m0106f8fa54\" y=\"511.558125\"/>\r\n      </g>\r\n     </g>\r\n     <g id=\"text_13\">\r\n      <!-- -3.0 -->\r\n      <g transform=\"translate(816.104178 526.156562)scale(0.1 -0.1)\">\r\n       <use xlink:href=\"#DejaVuSans-2d\"/>\r\n       <use x=\"36.083984\" xlink:href=\"#DejaVuSans-33\"/>\r\n       <use x=\"99.707031\" xlink:href=\"#DejaVuSans-2e\"/>\r\n       <use x=\"131.494141\" xlink:href=\"#DejaVuSans-30\"/>\r\n      </g>\r\n     </g>\r\n    </g>\r\n   </g>\r\n   <g id=\"matplotlib.axis_8\">\r\n    <g id=\"ytick_19\">\r\n     <g id=\"line2d_23\">\r\n      <g>\r\n       <use style=\"stroke:#000000;stroke-width:0.8;\" x=\"728.816168\" xlink:href=\"#m5e53a4cde1\" y=\"511.558125\"/>\r\n      </g>\r\n     </g>\r\n    </g>\r\n    <g id=\"ytick_20\">\r\n     <g id=\"line2d_24\">\r\n      <g>\r\n       <use style=\"stroke:#000000;stroke-width:0.8;\" x=\"728.816168\" xlink:href=\"#m5e53a4cde1\" y=\"418.369554\"/>\r\n      </g>\r\n     </g>\r\n    </g>\r\n    <g id=\"ytick_21\">\r\n     <g id=\"line2d_25\">\r\n      <g>\r\n       <use style=\"stroke:#000000;stroke-width:0.8;\" x=\"728.816168\" xlink:href=\"#m5e53a4cde1\" y=\"325.180982\"/>\r\n      </g>\r\n     </g>\r\n    </g>\r\n    <g id=\"ytick_22\">\r\n     <g id=\"line2d_26\">\r\n      <g>\r\n       <use style=\"stroke:#000000;stroke-width:0.8;\" x=\"728.816168\" xlink:href=\"#m5e53a4cde1\" y=\"231.992411\"/>\r\n      </g>\r\n     </g>\r\n    </g>\r\n    <g id=\"ytick_23\">\r\n     <g id=\"line2d_27\">\r\n      <g>\r\n       <use style=\"stroke:#000000;stroke-width:0.8;\" x=\"728.816168\" xlink:href=\"#m5e53a4cde1\" y=\"138.803839\"/>\r\n      </g>\r\n     </g>\r\n    </g>\r\n    <g id=\"ytick_24\">\r\n     <g id=\"line2d_28\">\r\n      <g>\r\n       <use style=\"stroke:#000000;stroke-width:0.8;\" x=\"728.816168\" xlink:href=\"#m5e53a4cde1\" y=\"45.615268\"/>\r\n      </g>\r\n     </g>\r\n    </g>\r\n   </g>\r\n   <g id=\"patch_22\">\r\n    <path d=\"M 728.816168 511.558125 \r\nL 728.816168 22.318125 \r\n\" style=\"fill:none;stroke:#000000;stroke-linecap:square;stroke-linejoin:miter;stroke-width:0.8;\"/>\r\n   </g>\r\n   <g id=\"patch_23\">\r\n    <path d=\"M 922.903125 511.558125 \r\nL 922.903125 22.318125 \r\n\" style=\"fill:none;stroke:#000000;stroke-linecap:square;stroke-linejoin:miter;stroke-width:0.8;\"/>\r\n   </g>\r\n   <g id=\"patch_24\">\r\n    <path d=\"M 728.816168 511.558125 \r\nL 922.903125 511.558125 \r\n\" style=\"fill:none;stroke:#000000;stroke-linecap:square;stroke-linejoin:miter;stroke-width:0.8;\"/>\r\n   </g>\r\n   <g id=\"patch_25\">\r\n    <path d=\"M 728.816168 22.318125 \r\nL 922.903125 22.318125 \r\n\" style=\"fill:none;stroke:#000000;stroke-linecap:square;stroke-linejoin:miter;stroke-width:0.8;\"/>\r\n   </g>\r\n   <g id=\"text_14\">\r\n    <!-- Results for Custody Level 5 -->\r\n    <g transform=\"translate(744.159334 16.318125)scale(0.12 -0.12)\">\r\n     <defs>\r\n      <path d=\"M 691 4666 \r\nL 3169 4666 \r\nL 3169 4134 \r\nL 1269 4134 \r\nL 1269 2991 \r\nQ 1406 3038 1543 3061 \r\nQ 1681 3084 1819 3084 \r\nQ 2600 3084 3056 2656 \r\nQ 3513 2228 3513 1497 \r\nQ 3513 744 3044 326 \r\nQ 2575 -91 1722 -91 \r\nQ 1428 -91 1123 -41 \r\nQ 819 9 494 109 \r\nL 494 744 \r\nQ 775 591 1075 516 \r\nQ 1375 441 1709 441 \r\nQ 2250 441 2565 725 \r\nQ 2881 1009 2881 1497 \r\nQ 2881 1984 2565 2268 \r\nQ 2250 2553 1709 2553 \r\nQ 1456 2553 1204 2497 \r\nQ 953 2441 691 2322 \r\nL 691 4666 \r\nz\r\n\" id=\"DejaVuSans-35\" transform=\"scale(0.015625)\"/>\r\n     </defs>\r\n     <use xlink:href=\"#DejaVuSans-52\"/>\r\n     <use x=\"64.982422\" xlink:href=\"#DejaVuSans-65\"/>\r\n     <use x=\"126.505859\" xlink:href=\"#DejaVuSans-73\"/>\r\n     <use x=\"178.605469\" xlink:href=\"#DejaVuSans-75\"/>\r\n     <use x=\"241.984375\" xlink:href=\"#DejaVuSans-6c\"/>\r\n     <use x=\"269.767578\" xlink:href=\"#DejaVuSans-74\"/>\r\n     <use x=\"308.976562\" xlink:href=\"#DejaVuSans-73\"/>\r\n     <use x=\"361.076172\" xlink:href=\"#DejaVuSans-20\"/>\r\n     <use x=\"392.863281\" xlink:href=\"#DejaVuSans-66\"/>\r\n     <use x=\"428.068359\" xlink:href=\"#DejaVuSans-6f\"/>\r\n     <use x=\"489.25\" xlink:href=\"#DejaVuSans-72\"/>\r\n     <use x=\"530.363281\" xlink:href=\"#DejaVuSans-20\"/>\r\n     <use x=\"562.150391\" xlink:href=\"#DejaVuSans-43\"/>\r\n     <use x=\"631.974609\" xlink:href=\"#DejaVuSans-75\"/>\r\n     <use x=\"695.353516\" xlink:href=\"#DejaVuSans-73\"/>\r\n     <use x=\"747.453125\" xlink:href=\"#DejaVuSans-74\"/>\r\n     <use x=\"786.662109\" xlink:href=\"#DejaVuSans-6f\"/>\r\n     <use x=\"847.84375\" xlink:href=\"#DejaVuSans-64\"/>\r\n     <use x=\"911.320312\" xlink:href=\"#DejaVuSans-79\"/>\r\n     <use x=\"970.5\" xlink:href=\"#DejaVuSans-20\"/>\r\n     <use x=\"1002.287109\" xlink:href=\"#DejaVuSans-4c\"/>\r\n     <use x=\"1056.25\" xlink:href=\"#DejaVuSans-65\"/>\r\n     <use x=\"1117.773438\" xlink:href=\"#DejaVuSans-76\"/>\r\n     <use x=\"1176.953125\" xlink:href=\"#DejaVuSans-65\"/>\r\n     <use x=\"1238.476562\" xlink:href=\"#DejaVuSans-6c\"/>\r\n     <use x=\"1266.259766\" xlink:href=\"#DejaVuSans-20\"/>\r\n     <use x=\"1298.046875\" xlink:href=\"#DejaVuSans-35\"/>\r\n    </g>\r\n   </g>\r\n  </g>\r\n </g>\r\n <defs>\r\n  <clipPath id=\"p15a0ae62aa\">\r\n   <rect height=\"489.24\" width=\"194.086957\" x=\"30.103125\" y=\"22.318125\"/>\r\n  </clipPath>\r\n  <clipPath id=\"p5fd9a4efb6\">\r\n   <rect height=\"489.24\" width=\"194.086957\" x=\"263.007473\" y=\"22.318125\"/>\r\n  </clipPath>\r\n  <clipPath id=\"p974977b241\">\r\n   <rect height=\"489.24\" width=\"194.086957\" x=\"495.911821\" y=\"22.318125\"/>\r\n  </clipPath>\r\n  <clipPath id=\"pe4af4f9002\">\r\n   <rect height=\"489.24\" width=\"194.086957\" x=\"728.816168\" y=\"22.318125\"/>\r\n  </clipPath>\r\n </defs>\r\n</svg>\r\n",
      "image/png": "[encoded data removed]"
     },
     "metadata": {
      "needs_background": "light"
     }
    }
   ],
   "metadata": {}
  }
 ]
}
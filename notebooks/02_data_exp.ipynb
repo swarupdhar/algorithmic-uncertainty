{
    "cells": [
        {
            "cell_type": "code",
            "execution_count": null,
            "source": [
                "perrec = pd.read_csv(\"../data/dbo_Perrec.txt\", encoding=config.ENCODING, low_memory=False)\n",
                "tblInfo = pd.read_csv(\"../data/dbo_2017_12_tblSearchInmateInfo.txt\", encoding=config.ENCODING, low_memory=False)\n",
                "tblInfo[\"reception_year\"] = tblInfo.reception_date // 1000\n",
                "perrec[\"reception_year\"] = perrec.control_number.apply(\n",
                "    lambda ctrl:\\\n",
                "        tblInfo[tblInfo.control_number == ctrl][\"reception_year\"]\n",
                ")\n",
                "recls_date = perrec[\"recls_date\"].astype(str).str[0:4].astype(int)\n",
                "ic_date = perrec[\"ic_date\"].astype(str).str[0:4].astype(int)\n",
                "diff = recls_date.replace(0, np.nan) - ic_date.replace(0, np.nan)\n",
                "diff = diff[diff > 0]\n",
                "_, ax = plt.subplots(1, 1, figsize=(16, 9))\n",
                "ax.bar(list(diff.value_counts().index), list(diff.value_counts().values))\n",
                "ax.set_title(\"Time Between Initial and Reclassification\")\n",
                "ax.set_xticks(diff.value_counts().index)\n",
                "ax.set_xticklabels(diff.value_counts().index)\n",
                "ax.set_xlabel(\"Years passed since initial classification\")\n",
                "ax.set_ylabel(\"Frequency / Number of Inmates\")\n",
                "ax.plot()"
            ],
            "outputs": [],
            "metadata": {}
        }
    ],
    "metadata": {
        "orig_nbformat": 4,
        "language_info": {
            "name": "python"
        }
    },
    "nbformat": 4,
    "nbformat_minor": 2
}